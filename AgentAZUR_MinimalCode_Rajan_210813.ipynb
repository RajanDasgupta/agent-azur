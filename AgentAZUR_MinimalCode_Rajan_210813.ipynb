{
  "nbformat": 4,
  "nbformat_minor": 2,
  "metadata": {
    "accelerator": "GPU",
    "colab": {
      "name": "AgentAZUR_MinimalCode",
      "provenance": [],
      "collapsed_sections": [],
      "toc_visible": true
    },
    "kernel": {
      "display_name": "Python 3",
      "language": "python",
      "name": "python3"
    },
    "kernelspec": {
      "name": "python3",
      "display_name": "Python 3.8.10 64-bit ('nmarl': conda)"
    },
    "language_info": {
      "name": "python",
      "version": "3.8.10",
      "mimetype": "text/x-python",
      "codemirror_mode": {
        "name": "ipython",
        "version": 3
      },
      "pygments_lexer": "ipython3",
      "nbconvert_exporter": "python",
      "file_extension": ".py"
    },
    "interpreter": {
      "hash": "16466b8fba2a6ac6e61862ec7dae953cfc93f6c9e5771a8e7fd97f2453f609b9"
    }
  },
  "cells": [
    {
      "cell_type": "markdown",
      "source": [
        "---\r\n",
        "\r\n",
        "## Setup\r\n",
        "\r\n",
        "Run the following 5 cells in order to set up needed functions. Don't worry about the code for now!"
      ],
      "metadata": {
        "execution": {},
        "id": "aSq3cF9wuiVR"
      }
    },
    {
      "cell_type": "code",
      "execution_count": 2,
      "source": [
        "# # @title Install requirements\r\n",
        "# from IPython.display import clear_output\r\n",
        "# # @markdown we install the acme library, see [here](https://github.com/deepmind/acme) for more info\r\n",
        "\r\n",
        "# # @markdown WARNING: There may be errors and warnings reported during the installation.\r\n",
        "# # @markdown However, they should be ignored.\r\n",
        "# !apt-get install -y xvfb ffmpeg --quiet\r\n",
        "# !pip install --upgrade pip --quiet\r\n",
        "# !pip install imageio --quiet\r\n",
        "# !pip install imageio-ffmpeg\r\n",
        "# !pip install gym --quiet\r\n",
        "# !pip install enum34 --quiet\r\n",
        "# !pip install dm-env --quiet\r\n",
        "# !pip install pandas --quiet\r\n",
        "# !pip install keras-nightly==2.5.0.dev2021020510 --quiet\r\n",
        "# !pip install grpcio==1.34.0 --quiet\r\n",
        "# !pip install tensorflow --quiet\r\n",
        "# !pip install typing --quiet\r\n",
        "# !pip install einops --quiet\r\n",
        "# !pip install dm-acme --quiet\r\n",
        "# !pip install dm-acme[reverb] --quiet\r\n",
        "# !pip install dm-acme[tf] --quiet\r\n",
        "# !pip install dm-acme[envs] --quiet\r\n",
        "# !pip install dm-env --quiet\r\n",
        "\r\n",
        "# clear_output()"
      ],
      "outputs": [],
      "metadata": {
        "execution": {},
        "id": "nSEnJ_6MuiVS"
      }
    },
    {
      "cell_type": "code",
      "execution_count": 2,
      "source": [
        "# Import modules\r\n",
        "import gym\r\n",
        "import enum\r\n",
        "import copy\r\n",
        "import time\r\n",
        "import acme\r\n",
        "import torch\r\n",
        "import base64\r\n",
        "import dm_env\r\n",
        "import IPython\r\n",
        "import imageio\r\n",
        "import warnings\r\n",
        "import itertools\r\n",
        "import collections\r\n",
        "\r\n",
        "import numpy as np\r\n",
        "import pandas as pd\r\n",
        "import torch.nn as nn\r\n",
        "import torch.optim as optim\r\n",
        "import torch.nn.functional as F\r\n",
        "\r\n",
        "import matplotlib as mpl\r\n",
        "import matplotlib.pyplot as plt\r\n",
        "\r\n",
        "import tensorflow.compat.v2 as tf\r\n",
        "\r\n",
        "from acme import specs\r\n",
        "from acme import wrappers\r\n",
        "from acme.utils import tree_utils\r\n",
        "from acme.utils import loggers\r\n",
        "from torch.autograd import Variable\r\n",
        "from torch.distributions import Categorical\r\n",
        "from typing import Callable, Sequence\r\n",
        "\r\n",
        "tf.enable_v2_behavior()\r\n",
        "warnings.filterwarnings('ignore')\r\n",
        "np.set_printoptions(precision=3, suppress=1)"
      ],
      "outputs": [],
      "metadata": {
        "execution": {},
        "id": "Kxmqd42fuiVS"
      }
    },
    {
      "cell_type": "markdown",
      "source": [
        "## Helper functions"
      ],
      "metadata": {}
    },
    {
      "cell_type": "code",
      "execution_count": 5,
      "source": [
        "# @title Figure settings\r\n",
        "import ipywidgets as widgets       # interactive display\r\n",
        "%matplotlib inline\r\n",
        "%config InlineBackend.figure_format = 'retina'\r\n",
        "plt.style.use(\"https://raw.githubusercontent.com/NeuromatchAcademy/course-content/master/nma.mplstyle\")\r\n",
        "mpl.rc('image', cmap='Blues')"
      ],
      "outputs": [],
      "metadata": {
        "execution": {},
        "id": "pSWTYJgvuiVT"
      }
    },
    {
      "cell_type": "code",
      "execution_count": 6,
      "source": [
        "# @title Helper Functions\r\n",
        "# @markdown Implement helpers for value visualisation\r\n",
        "\r\n",
        "map_from_action_to_subplot = lambda a: (2, 6, 8, 4)[a]\r\n",
        "map_from_action_to_name = lambda a: (\"up\", \"right\", \"down\", \"left\")[a]\r\n",
        "\r\n",
        "\r\n",
        "def plot_values(values, colormap='pink', vmin=-1, vmax=10):\r\n",
        "  plt.imshow(values, interpolation=\"nearest\",\r\n",
        "             cmap=colormap, vmin=vmin, vmax=vmax)\r\n",
        "  plt.yticks([])\r\n",
        "  plt.xticks([])\r\n",
        "  plt.colorbar(ticks=[vmin, vmax])\r\n",
        "\r\n",
        "\r\n",
        "def plot_state_value(action_values, epsilon=0.1):\r\n",
        "  q = action_values\r\n",
        "  fig = plt.figure(figsize=(4, 4))\r\n",
        "  vmin = np.min(action_values)\r\n",
        "  vmax = np.max(action_values)\r\n",
        "  v = (1 - epsilon) * np.max(q, axis=-1) + epsilon * np.mean(q, axis=-1)\r\n",
        "  plot_values(v, colormap='summer', vmin=vmin, vmax=vmax)\r\n",
        "  plt.title(\"$v(s)$\")\r\n",
        "\r\n",
        "\r\n",
        "def plot_action_values(action_values, epsilon=0.1):\r\n",
        "  q = action_values\r\n",
        "  fig = plt.figure(figsize=(8, 8))\r\n",
        "  fig.subplots_adjust(wspace=0.3, hspace=0.3)\r\n",
        "  vmin = np.min(action_values)\r\n",
        "  vmax = np.max(action_values)\r\n",
        "  dif = vmax - vmin\r\n",
        "  for a in [0, 1, 2, 3]:\r\n",
        "    plt.subplot(3, 3, map_from_action_to_subplot(a))\r\n",
        "\r\n",
        "    plot_values(q[..., a], vmin=vmin - 0.05*dif, vmax=vmax + 0.05*dif)\r\n",
        "    action_name = map_from_action_to_name(a)\r\n",
        "    plt.title(r\"$q(s, \\mathrm{\" + action_name + r\"})$\")\r\n",
        "\r\n",
        "  plt.subplot(3, 3, 5)\r\n",
        "  v = (1 - epsilon) * np.max(q, axis=-1) + epsilon * np.mean(q, axis=-1)\r\n",
        "  plot_values(v, colormap='summer', vmin=vmin, vmax=vmax)\r\n",
        "  plt.title(\"$v(s)$\")\r\n",
        "\r\n",
        "\r\n",
        "def plot_stats(stats, window=10):\r\n",
        "  plt.figure(figsize=(16,4))\r\n",
        "  plt.subplot(121)\r\n",
        "  xline = range(0, len(stats.episode_lengths), window)\r\n",
        "  plt.plot(xline, smooth(stats.episode_lengths, window=window))\r\n",
        "  plt.ylabel('Episode Length')\r\n",
        "  plt.xlabel('Episode Count')\r\n",
        "  plt.subplot(122)\r\n",
        "  plt.plot(xline, smooth(stats.episode_rewards, window=window))\r\n",
        "  plt.ylabel('Episode Return')\r\n",
        "  plt.xlabel('Episode Count')"
      ],
      "outputs": [],
      "metadata": {
        "execution": {},
        "id": "NfmoICzbuiVT"
      }
    },
    {
      "cell_type": "code",
      "execution_count": 4,
      "source": [
        "# @title Helper functions\r\n",
        "def smooth(x, window=10):\r\n",
        "  return x[:window*(len(x)//window)].reshape(len(x)//window, window).mean(axis=1)"
      ],
      "outputs": [],
      "metadata": {
        "cellView": "form",
        "execution": {},
        "id": "VIaPcoDHuiVU"
      }
    },
    {
      "cell_type": "markdown",
      "source": [
        "## Set random seed, device"
      ],
      "metadata": {}
    },
    {
      "cell_type": "code",
      "execution_count": 6,
      "source": [
        "# @title Set random seed\r\n",
        "\r\n",
        "# @markdown Executing `set_seed(seed=seed)` you are setting the seed\r\n",
        "\r\n",
        "# for DL its critical to set the random seed so that students can have a\r\n",
        "# baseline to compare their results to expected results.\r\n",
        "# Read more here: https://pytorch.org/docs/stable/notes/randomness.html\r\n",
        "\r\n",
        "# Call `set_seed` function in the exercises to ensure reproducibility.\r\n",
        "import random\r\n",
        "import torch\r\n",
        "\r\n",
        "def set_seed(seed=None, seed_torch=True):\r\n",
        "  if seed is None:\r\n",
        "    seed = np.random.choice(2 ** 32)\r\n",
        "  random.seed(seed)\r\n",
        "  np.random.seed(seed)\r\n",
        "  if seed_torch:\r\n",
        "    torch.manual_seed(seed)\r\n",
        "    torch.cuda.manual_seed_all(seed)\r\n",
        "    torch.cuda.manual_seed(seed)\r\n",
        "    torch.backends.cudnn.benchmark = False\r\n",
        "    torch.backends.cudnn.deterministic = True\r\n",
        "\r\n",
        "  print(f'Random seed {seed} has been set.')\r\n",
        "\r\n",
        "\r\n",
        "# In case that `DataLoader` is used\r\n",
        "def seed_worker(worker_id):\r\n",
        "  worker_seed = torch.initial_seed() % 2**32\r\n",
        "  np.random.seed(worker_seed)\r\n",
        "  random.seed(worker_seed)"
      ],
      "outputs": [],
      "metadata": {
        "cellView": "form",
        "execution": {},
        "id": "cfsXcrpPuiVU"
      }
    },
    {
      "cell_type": "code",
      "execution_count": 7,
      "source": [
        "# @title Set device (GPU or CPU). Execute `set_device()`\r\n",
        "# especially if torch modules used.\r\n",
        "\r\n",
        "# inform the user if the notebook uses GPU or CPU.\r\n",
        "\r\n",
        "def set_device():\r\n",
        "  device = \"cuda\" if torch.cuda.is_available() else \"cpu\"\r\n",
        "  if device != \"cuda\":\r\n",
        "    print(\"WARNING: For this notebook to perform best, \"\r\n",
        "        \"if possible, in the menu under `Runtime` -> \"\r\n",
        "        \"`Change runtime type.`  select `GPU` \")\r\n",
        "  else:\r\n",
        "    print(\"GPU is enabled in this notebook.\")\r\n",
        "\r\n",
        "  return device"
      ],
      "outputs": [],
      "metadata": {
        "cellView": "form",
        "execution": {},
        "id": "ILGZfK5fuiVV"
      }
    },
    {
      "cell_type": "code",
      "execution_count": 8,
      "source": [
        "SEED = 2021\r\n",
        "set_seed(seed=SEED)\r\n",
        "DEVICE = set_device()"
      ],
      "outputs": [
        {
          "output_type": "stream",
          "name": "stdout",
          "text": [
            "Random seed 2021 has been set.\n",
            "GPU is enabled in this notebook.\n"
          ]
        }
      ],
      "metadata": {
        "execution": {},
        "id": "oGM9gCX5uiVV",
        "colab": {
          "base_uri": "https://localhost:8080/"
        },
        "outputId": "4ef42b7e-8627-43d9-e3da-44f51dff0916"
      }
    },
    {
      "cell_type": "markdown",
      "source": [
        "## Acme: a research framework for reinforcement learning, Set up gridworld"
      ],
      "metadata": {}
    },
    {
      "cell_type": "markdown",
      "source": [
        "**Acme** is a library of reinforcement learning (RL) agents and agent building blocks by Google DeepMind. Acme strives to expose simple, efficient, and readable agents, that serve both as reference implementations of popular algorithms and as strong baselines, while still providing enough flexibility to do novel research. The design of Acme also attempts to provide multiple points of entry to the RL problem at differing levels of complexity.\r\n",
        "\r\n",
        "For more information see [github repository](https://github.com/deepmind/acme)."
      ],
      "metadata": {
        "execution": {},
        "id": "q8DsUg9SuiVW"
      }
    },
    {
      "cell_type": "code",
      "execution_count": 7,
      "source": [
        "# @title Implement GridWorld { form-width: \"30%\" }\r\n",
        "# @markdown *Double-click* to inspect the contents of this cell.\r\n",
        "\r\n",
        "class ObservationType(enum.IntEnum):\r\n",
        "  STATE_INDEX = enum.auto()\r\n",
        "  AGENT_ONEHOT = enum.auto()\r\n",
        "  GRID = enum.auto()\r\n",
        "  AGENT_GOAL_POS = enum.auto()\r\n",
        "\r\n",
        "\r\n",
        "class GridWorld(dm_env.Environment):\r\n",
        "\r\n",
        "  def __init__(self,\r\n",
        "               layout,\r\n",
        "               start_state,\r\n",
        "               goal_state=None,\r\n",
        "               observation_type=ObservationType.STATE_INDEX,\r\n",
        "               discount=0.9,\r\n",
        "               penalty_for_walls=-5,\r\n",
        "               reward_goal=10,\r\n",
        "               max_episode_length=None,\r\n",
        "               randomize_goals=False):\r\n",
        "    \"\"\"Build a grid environment.\r\n",
        "\r\n",
        "    Simple gridworld defined by a map layout, a start and a goal state.\r\n",
        "\r\n",
        "    Layout should be a NxN grid, containing:\r\n",
        "      * 0: empty\r\n",
        "      * -1: wall\r\n",
        "      * Any other positive value: value indicates reward; episode will terminate\r\n",
        "\r\n",
        "    Args:\r\n",
        "      layout: NxN array of numbers, indicating the layout of the environment.\r\n",
        "      start_state: Tuple (y, x) of starting location.\r\n",
        "      goal_state: Optional tuple (y, x) of goal location. Will be randomly\r\n",
        "        sampled once if None.\r\n",
        "      observation_type: Enum observation type to use. One of:\r\n",
        "        * ObservationType.STATE_INDEX: int32 index of agent occupied tile.\r\n",
        "        * ObservationType.AGENT_ONEHOT: NxN float32 grid, with a 1 where the\r\n",
        "          agent is and 0 elsewhere.\r\n",
        "        * ObservationType.GRID: NxNx3 float32 grid of feature channels.\r\n",
        "          First channel contains walls (1 if wall, 0 otherwise), second the\r\n",
        "          agent position (1 if agent, 0 otherwise) and third goal position\r\n",
        "          (1 if goal, 0 otherwise)\r\n",
        "        * ObservationType.AGENT_GOAL_POS: float32 tuple with\r\n",
        "          (agent_y, agent_x, goal_y, goal_x)\r\n",
        "      discount: Discounting factor included in all Timesteps.\r\n",
        "      penalty_for_walls: Reward added when hitting a wall (should be negative).\r\n",
        "      reward_goal: Reward added when finding the goal (should be positive).\r\n",
        "      max_episode_length: If set, will terminate an episode after this many\r\n",
        "        steps.\r\n",
        "      randomize_goals: If true, randomize goal at every episode.\r\n",
        "    \"\"\"\r\n",
        "    if observation_type not in ObservationType:\r\n",
        "      raise ValueError('observation_type should be a ObservationType instace.')\r\n",
        "    self._layout = np.array(layout)\r\n",
        "    self._start_state = start_state\r\n",
        "    self._state = self._start_state\r\n",
        "    self._number_of_states = np.prod(np.shape(self._layout))\r\n",
        "    self._discount = discount\r\n",
        "    self._penalty_for_walls = penalty_for_walls\r\n",
        "    self._reward_goal = reward_goal\r\n",
        "    self._observation_type = observation_type\r\n",
        "    self._layout_dims = self._layout.shape\r\n",
        "    self._max_episode_length = max_episode_length\r\n",
        "    self._num_episode_steps = 0\r\n",
        "    self._randomize_goals = randomize_goals\r\n",
        "    if goal_state is None:\r\n",
        "      # Randomly sample goal_state if not provided\r\n",
        "      goal_state = self._sample_goal()\r\n",
        "    self.goal_state = goal_state\r\n",
        "\r\n",
        "  def _sample_goal(self):\r\n",
        "    \"\"\"Randomly sample reachable non-starting state.\"\"\"\r\n",
        "    # Sample a new goal\r\n",
        "    n = 0\r\n",
        "    max_tries = 1e5\r\n",
        "    while n < max_tries:\r\n",
        "      goal_state = tuple(np.random.randint(d) for d in self._layout_dims)\r\n",
        "      if goal_state != self._state and self._layout[goal_state] == 0:\r\n",
        "        # Reachable state found!\r\n",
        "        return goal_state\r\n",
        "      n += 1\r\n",
        "    raise ValueError('Failed to sample a goal state.')\r\n",
        "\r\n",
        "  @property\r\n",
        "  def layout(self):\r\n",
        "    return self._layout\r\n",
        "\r\n",
        "  @property\r\n",
        "  def number_of_states(self):\r\n",
        "    return self._number_of_states\r\n",
        "\r\n",
        "  @property\r\n",
        "  def goal_state(self):\r\n",
        "    return self._goal_state\r\n",
        "\r\n",
        "  @property\r\n",
        "  def start_state(self):\r\n",
        "    return self._start_state\r\n",
        "\r\n",
        "  @property\r\n",
        "  def state(self):\r\n",
        "    return self._state\r\n",
        "\r\n",
        "  def set_state(self, x, y):\r\n",
        "    self._state = (y, x)\r\n",
        "\r\n",
        "  @goal_state.setter\r\n",
        "  def goal_state(self, new_goal):\r\n",
        "    if new_goal == self._state or self._layout[new_goal] < 0:\r\n",
        "      raise ValueError('This is not a valid goal!')\r\n",
        "    # Zero out any other goal\r\n",
        "    self._layout[self._layout > 0] = 0\r\n",
        "    # Setup new goal location\r\n",
        "    self._layout[new_goal] = self._reward_goal\r\n",
        "    self._goal_state = new_goal\r\n",
        "\r\n",
        "  def observation_spec(self):\r\n",
        "    if self._observation_type is ObservationType.AGENT_ONEHOT:\r\n",
        "      return specs.Array(\r\n",
        "          shape=self._layout_dims,\r\n",
        "          dtype=np.float32,\r\n",
        "          name='observation_agent_onehot')\r\n",
        "    elif self._observation_type is ObservationType.GRID:\r\n",
        "      return specs.Array(\r\n",
        "          shape=self._layout_dims + (3,),\r\n",
        "          dtype=np.float32,\r\n",
        "          name='observation_grid')\r\n",
        "    elif self._observation_type is ObservationType.AGENT_GOAL_POS:\r\n",
        "      return specs.Array(\r\n",
        "          shape=(4,), dtype=np.float32, name='observation_agent_goal_pos')\r\n",
        "    elif self._observation_type is ObservationType.STATE_INDEX:\r\n",
        "      return specs.DiscreteArray(\r\n",
        "          self._number_of_states, dtype=int, name='observation_state_index')\r\n",
        "\r\n",
        "  def action_spec(self):\r\n",
        "    return specs.DiscreteArray(4, dtype=int, name='action')\r\n",
        "\r\n",
        "  def get_obs(self):\r\n",
        "    if self._observation_type is ObservationType.AGENT_ONEHOT:\r\n",
        "      obs = np.zeros(self._layout.shape, dtype=np.float32)\r\n",
        "      # Place agent\r\n",
        "      obs[self._state] = 1\r\n",
        "      return obs\r\n",
        "    elif self._observation_type is ObservationType.GRID:\r\n",
        "      obs = np.zeros(self._layout.shape + (3,), dtype=np.float32)\r\n",
        "      obs[..., 0] = self._layout < 0\r\n",
        "      obs[self._state[0], self._state[1], 1] = 1\r\n",
        "      obs[self._goal_state[0], self._goal_state[1], 2] = 1\r\n",
        "      return obs\r\n",
        "    elif self._observation_type is ObservationType.AGENT_GOAL_POS:\r\n",
        "      return np.array(self._state + self._goal_state, dtype=np.float32)\r\n",
        "    elif self._observation_type is ObservationType.STATE_INDEX:\r\n",
        "      y, x = self._state\r\n",
        "      return y * self._layout.shape[1] + x\r\n",
        "\r\n",
        "  def reset(self):\r\n",
        "    self._state = self._start_state\r\n",
        "    self._num_episode_steps = 0\r\n",
        "    if self._randomize_goals:\r\n",
        "      self.goal_state = self._sample_goal()\r\n",
        "    return dm_env.TimeStep(\r\n",
        "        step_type=dm_env.StepType.FIRST,\r\n",
        "        reward=None,\r\n",
        "        discount=None,\r\n",
        "        observation=self.get_obs())\r\n",
        "\r\n",
        "  def step(self, action):\r\n",
        "    y, x = self._state\r\n",
        "\r\n",
        "    if action == 0:  # up\r\n",
        "      new_state = (y - 1, x)\r\n",
        "    elif action == 1:  # right\r\n",
        "      new_state = (y, x + 1)\r\n",
        "    elif action == 2:  # down\r\n",
        "      new_state = (y + 1, x)\r\n",
        "    elif action == 3:  # left\r\n",
        "      new_state = (y, x - 1)\r\n",
        "    else:\r\n",
        "      raise ValueError(\r\n",
        "          'Invalid action: {} is not 0, 1, 2, or 3.'.format(action))\r\n",
        "\r\n",
        "    new_y, new_x = new_state\r\n",
        "    step_type = dm_env.StepType.MID\r\n",
        "    if self._layout[new_y, new_x] == -1:  # wall\r\n",
        "      reward = self._penalty_for_walls\r\n",
        "      discount = self._discount\r\n",
        "      new_state = (y, x)\r\n",
        "    elif self._layout[new_y, new_x] == 0:  # empty cell\r\n",
        "      reward = 0.\r\n",
        "      discount = self._discount\r\n",
        "    else:  # a goal\r\n",
        "      reward = self._layout[new_y, new_x]\r\n",
        "      discount = 0.\r\n",
        "      new_state = self._start_state\r\n",
        "      step_type = dm_env.StepType.LAST\r\n",
        "\r\n",
        "    self._state = new_state\r\n",
        "    self._num_episode_steps += 1\r\n",
        "    if (self._max_episode_length is not None and\r\n",
        "        self._num_episode_steps >= self._max_episode_length):\r\n",
        "      step_type = dm_env.StepType.LAST\r\n",
        "    return dm_env.TimeStep(\r\n",
        "        step_type=step_type,\r\n",
        "        reward=np.float32(reward),\r\n",
        "        discount=discount,\r\n",
        "        observation=self.get_obs())\r\n",
        "\r\n",
        "  def plot_grid(self, add_start=True):\r\n",
        "    plt.figure(figsize=(4, 4))\r\n",
        "    plt.imshow(self._layout <= -1, interpolation='nearest')\r\n",
        "    ax = plt.gca()\r\n",
        "    ax.grid(0)\r\n",
        "    plt.xticks([])\r\n",
        "    plt.yticks([])\r\n",
        "    # Add start/goal\r\n",
        "    if add_start:\r\n",
        "      plt.text(\r\n",
        "          self._start_state[1],\r\n",
        "          self._start_state[0],\r\n",
        "          r'$\\mathbf{S}$',\r\n",
        "          fontsize=16,\r\n",
        "          ha='center',\r\n",
        "          va='center')\r\n",
        "    plt.text(\r\n",
        "        self._goal_state[1],\r\n",
        "        self._goal_state[0],\r\n",
        "        r'$\\mathbf{G}$',\r\n",
        "        fontsize=16,\r\n",
        "        ha='center',\r\n",
        "        va='center')\r\n",
        "    h, w = self._layout.shape\r\n",
        "    for y in range(h - 1):\r\n",
        "      plt.plot([-0.5, w - 0.5], [y + 0.5, y + 0.5], '-w', lw=2)\r\n",
        "    for x in range(w - 1):\r\n",
        "      plt.plot([x + 0.5, x + 0.5], [-0.5, h - 0.5], '-w', lw=2)\r\n",
        "\r\n",
        "  def plot_state(self, return_rgb=False):\r\n",
        "    self.plot_grid(add_start=False)\r\n",
        "    # Add the agent location\r\n",
        "    plt.text(\r\n",
        "        self._state[1],\r\n",
        "        self._state[0],\r\n",
        "        u'😃',\r\n",
        "        # fontname='symbola',\r\n",
        "        fontsize=18,\r\n",
        "        ha='center',\r\n",
        "        va='center',\r\n",
        "    )\r\n",
        "    if return_rgb:\r\n",
        "      fig = plt.gcf()\r\n",
        "      plt.axis('tight')\r\n",
        "      plt.subplots_adjust(0, 0, 1, 1, 0, 0)\r\n",
        "      fig.canvas.draw()\r\n",
        "      data = np.fromstring(fig.canvas.tostring_rgb(), dtype=np.uint8, sep='')\r\n",
        "      w, h = fig.canvas.get_width_height()\r\n",
        "      data = data.reshape((h, w, 3))\r\n",
        "      plt.close(fig)\r\n",
        "      return data\r\n",
        "\r\n",
        "  def plot_policy(self, policy):\r\n",
        "    action_names = [\r\n",
        "        r'$\\uparrow$', r'$\\rightarrow$', r'$\\downarrow$', r'$\\leftarrow$'\r\n",
        "    ]\r\n",
        "    self.plot_grid()\r\n",
        "    plt.title('Policy Visualization')\r\n",
        "    h, w = self._layout.shape\r\n",
        "    for y in range(h):\r\n",
        "      for x in range(w):\r\n",
        "        # if ((y, x) != self._start_state) and ((y, x) != self._goal_state):\r\n",
        "        if (y, x) != self._goal_state:\r\n",
        "          action_name = action_names[policy[y, x]]\r\n",
        "          plt.text(x, y, action_name, ha='center', va='center')\r\n",
        "\r\n",
        "  def plot_greedy_policy(self, q):\r\n",
        "    greedy_actions = np.argmax(q, axis=2)\r\n",
        "    self.plot_policy(greedy_actions)\r\n",
        "\r\n",
        "\r\n",
        "def build_gridworld_task(task,\r\n",
        "                         discount=0.9,\r\n",
        "                         penalty_for_walls=-5,\r\n",
        "                         observation_type=ObservationType.STATE_INDEX,\r\n",
        "                         max_episode_length=200):\r\n",
        "  \"\"\"Construct a particular Gridworld layout with start/goal states.\r\n",
        "\r\n",
        "  Args:\r\n",
        "      task: string name of the task to use. One of {'simple', 'obstacle',\r\n",
        "        'random_goal'}.\r\n",
        "      discount: Discounting factor included in all Timesteps.\r\n",
        "      penalty_for_walls: Reward added when hitting a wall (should be negative).\r\n",
        "      observation_type: Enum observation type to use. One of:\r\n",
        "        * ObservationType.STATE_INDEX: int32 index of agent occupied tile.\r\n",
        "        * ObservationType.AGENT_ONEHOT: NxN float32 grid, with a 1 where the\r\n",
        "          agent is and 0 elsewhere.\r\n",
        "        * ObservationType.GRID: NxNx3 float32 grid of feature channels.\r\n",
        "          First channel contains walls (1 if wall, 0 otherwise), second the\r\n",
        "          agent position (1 if agent, 0 otherwise) and third goal position\r\n",
        "          (1 if goal, 0 otherwise)\r\n",
        "        * ObservationType.AGENT_GOAL_POS: float32 tuple with\r\n",
        "          (agent_y, agent_x, goal_y, goal_x).\r\n",
        "      max_episode_length: If set, will terminate an episode after this many\r\n",
        "        steps.\r\n",
        "  \"\"\"\r\n",
        "  tasks_specifications = {\r\n",
        "      'simple': {\r\n",
        "          'layout': [\r\n",
        "              [-1, -1, -1, -1, -1, -1, -1, -1, -1, -1],\r\n",
        "              [-1, 0, 0, 0, 0, 0, 0, 0, 0, -1],\r\n",
        "              [-1, 0, 0, 0, -1, -1, 0, 0, 0, -1],\r\n",
        "              [-1, 0, 0, 0, -1, -1, 0, 0, 0, -1],\r\n",
        "              [-1, 0, 0, 0, -1, -1, 0, 0, 0, -1],\r\n",
        "              [-1, 0, 0, 0, 0, 0, 0, 0, 0, -1],\r\n",
        "              [-1, 0, 0, 0, 0, 0, 0, 0, 0, -1],\r\n",
        "              [-1, 0, 0, 0, 0, 0, 0, 0, 0, -1],\r\n",
        "              [-1, -1, -1, -1, -1, -1, -1, -1, -1, -1],\r\n",
        "          ],\r\n",
        "          'start_state': (2, 2),\r\n",
        "          'goal_state': (7, 2)\r\n",
        "      },\r\n",
        "      'obstacle': {\r\n",
        "          'layout': [\r\n",
        "              [-1, -1, -1, -1, -1, -1, -1, -1, -1, -1],\r\n",
        "              [-1, 0, 0, 0, 0, 0, -1, 0, 0, -1],\r\n",
        "              [-1, 0, 0, 0, -1, 0, 0, 0, 0, -1],\r\n",
        "              [-1, 0, 0, 0, -1, -1, 0, 0, 0, -1],\r\n",
        "              [-1, 0, 0, 0, -1, -1, 0, 0, 0, -1],\r\n",
        "              [-1, 0, 0, 0, 0, 0, 0, 0, 0, -1],\r\n",
        "              [-1, 0, 0, 0, 0, 0, 0, 0, 0, -1],\r\n",
        "              [-1, 0, 0, 0, 0, 0, 0, 0, 0, -1],\r\n",
        "              [-1, -1, -1, -1, -1, -1, -1, -1, -1, -1],\r\n",
        "          ],\r\n",
        "          'start_state': (2, 2),\r\n",
        "          'goal_state': (2, 8)\r\n",
        "      },\r\n",
        "      'random_goal': {\r\n",
        "          'layout': [\r\n",
        "              [-1, -1, -1, -1, -1, -1, -1, -1, -1, -1],\r\n",
        "              [-1, 0, 0, 0, 0, 0, 0, 0, 0, -1],\r\n",
        "              [-1, 0, 0, 0, -1, -1, 0, 0, 0, -1],\r\n",
        "              [-1, 0, 0, 0, -1, -1, 0, 0, 0, -1],\r\n",
        "              [-1, 0, 0, 0, -1, -1, 0, 0, 0, -1],\r\n",
        "              [-1, 0, 0, 0, 0, 0, 0, 0, 0, -1],\r\n",
        "              [-1, 0, 0, 0, 0, 0, 0, 0, 0, -1],\r\n",
        "              [-1, 0, 0, 0, 0, 0, 0, 0, 0, -1],\r\n",
        "              [-1, -1, -1, -1, -1, -1, -1, -1, -1, -1],\r\n",
        "          ],\r\n",
        "          'start_state': (2, 2),\r\n",
        "          # 'randomize_goals': True\r\n",
        "      },\r\n",
        "  }\r\n",
        "  return GridWorld(\r\n",
        "      discount=discount,\r\n",
        "      penalty_for_walls=penalty_for_walls,\r\n",
        "      observation_type=observation_type,\r\n",
        "      max_episode_length=max_episode_length,\r\n",
        "      **tasks_specifications[task])\r\n",
        "\r\n",
        "\r\n",
        "def setup_environment(environment):\r\n",
        "  \"\"\"Returns the environment and its spec.\"\"\"\r\n",
        "\r\n",
        "  # Make sure the environment outputs single-precision floats.\r\n",
        "  environment = wrappers.SinglePrecisionWrapper(environment)\r\n",
        "\r\n",
        "  # Grab the spec of the environment.\r\n",
        "  environment_spec = specs.make_environment_spec(environment)\r\n",
        "\r\n",
        "  return environment, environment_spec"
      ],
      "outputs": [],
      "metadata": {
        "execution": {},
        "id": "LbICvlWUuiVZ"
      }
    },
    {
      "cell_type": "markdown",
      "source": [
        "## Play around with gridworlds"
      ],
      "metadata": {}
    },
    {
      "cell_type": "markdown",
      "source": [
        "We will use two distinct tabular GridWorlds:\r\n",
        "* `simple` where the goal is at the bottom left of the grid, little navigation required.\r\n",
        "* `obstacle` where the goal is behind an obstacle the agent must avoid.\r\n",
        "\r\n",
        "You can visualize the grid worlds by running the cell below. \r\n",
        "\r\n",
        "Note that **S** indicates the start state and **G** indicates the goal. \r\n"
      ],
      "metadata": {
        "execution": {},
        "id": "6Qmnw5IOuiVa"
      }
    },
    {
      "cell_type": "code",
      "execution_count": 8,
      "source": [
        "# Visualise GridWorlds\r\n",
        "\r\n",
        "# Instantiate two tabular environments, a simple task, and one that involves\r\n",
        "# the avoidance of an obstacle.\r\n",
        "simple_grid = build_gridworld_task(\r\n",
        "    task='simple', observation_type=ObservationType.GRID)\r\n",
        "obstacle_grid = build_gridworld_task(\r\n",
        "    task='obstacle', observation_type=ObservationType.GRID)\r\n",
        "\r\n",
        "# Plot them.\r\n",
        "simple_grid.plot_grid()\r\n",
        "plt.title('Simple')\r\n",
        "\r\n",
        "obstacle_grid.plot_grid()\r\n",
        "plt.title('Obstacle')"
      ],
      "outputs": [
        {
          "output_type": "execute_result",
          "data": {
            "text/plain": [
              "Text(0.5, 1.0, 'Obstacle')"
            ]
          },
          "metadata": {},
          "execution_count": 8
        },
        {
          "output_type": "display_data",
          "data": {
            "text/plain": [
              "<Figure size 288x288 with 1 Axes>"
            ],
            "image/png": "[encoded data removed]"
          },
          "metadata": {
            "image/png": {
              "width": 270,
              "height": 264
            }
          }
        },
        {
          "output_type": "display_data",
          "data": {
            "text/plain": [
              "<Figure size 288x288 with 1 Axes>"
            ],
            "image/png": "[encoded data removed]"
          },
          "metadata": {
            "image/png": {
              "width": 270,
              "height": 264
            }
          }
        }
      ],
      "metadata": {
        "execution": {},
        "id": "h9xj28j4uiVb"
      }
    },
    {
      "cell_type": "markdown",
      "source": [
        "In this environment, the agent has four possible  <font color='blue'>**actions**</font>: `up`, `right`, `down`, and `left`.  The <font color='green'>**reward**</font> is `-5` for bumping into a wall, `+10` for reaching the goal, and `0` otherwise. The episode ends when the agent reaches the goal, and otherwise continues. The **discount** on continuing steps, is $\\gamma = 0.9$. \n",
        "\n",
        "Before we start building an agent to interact with this environment, let's first look at the types of objects the environment either returns (e.g., <font color='redorange'>**observations**</font>) or consumes (e.g., <font color='blue'>**actions**</font>). The `environment_spec` will show you the form of the <font color='redorange'>**observations**</font>, <font color='green'>**rewards**</font> and **discounts** that the environment exposes and the form of the <font color='blue'>**actions**</font> that can be taken.\n"
      ],
      "metadata": {
        "execution": {},
        "id": "mnODEICLuiVb"
      }
    },
    {
      "cell_type": "code",
      "execution_count": 11,
      "source": [
        "# @title Look at environment_spec { form-width: \"30%\" }\r\n",
        "\r\n",
        "# Note: setup_environment is implemented in the same cell as GridWorld.\r\n",
        "environment, environment_spec = setup_environment(simple_grid)\r\n",
        "\r\n",
        "print('actions:\\n', environment_spec.actions, '\\n')\r\n",
        "print('observations:\\n', environment_spec.observations, '\\n')\r\n",
        "print('rewards:\\n', environment_spec.rewards, '\\n')\r\n",
        "print('discounts:\\n', environment_spec.discounts, '\\n')"
      ],
      "outputs": [
        {
          "output_type": "stream",
          "name": "stdout",
          "text": [
            "actions:\n",
            " DiscreteArray(shape=(), dtype=int32, name=action, minimum=0, maximum=3, num_values=4) \n",
            "\n",
            "observations:\n",
            " Array(shape=(9, 10, 3), dtype=dtype('float32'), name='observation_grid') \n",
            "\n",
            "rewards:\n",
            " Array(shape=(), dtype=dtype('float32'), name='reward') \n",
            "\n",
            "discounts:\n",
            " BoundedArray(shape=(), dtype=dtype('float32'), name='discount', minimum=0.0, maximum=1.0) \n",
            "\n"
          ]
        }
      ],
      "metadata": {
        "cellView": "form",
        "execution": {},
        "id": "WOAsWtmZuiVc"
      }
    },
    {
      "cell_type": "markdown",
      "source": [
        "\n",
        "We first set the environment to its initial state by calling the `reset()` method which returns the first observation and resets the agent to the starting location.\n"
      ],
      "metadata": {
        "execution": {},
        "id": "UeFZBERRuiVc"
      }
    },
    {
      "cell_type": "code",
      "execution_count": 12,
      "source": [
        "environment.reset()\r\n",
        "environment.plot_state()"
      ],
      "outputs": [
        {
          "output_type": "display_data",
          "data": {
            "text/plain": [
              "<Figure size 288x288 with 1 Axes>"
            ],
            "image/png": "[encoded data removed]"
          },
          "metadata": {
            "image/png": {
              "width": 270,
              "height": 244
            }
          }
        }
      ],
      "metadata": {
        "execution": {},
        "id": "LZwLrDeYuiVc"
      }
    },
    {
      "cell_type": "markdown",
      "source": [
        "Now we want to take an action to interact with the environment. We do this by passing a valid action to the `dm_env.Environment.step()` method which returns a `dm_env.TimeStep` namedtuple with fields `(step_type, reward, discount, observation)`.\n",
        "\n",
        "Let's take an action and visualise the resulting state of the grid-world. (You'll need to rerun the cell if you pick a new action.)"
      ],
      "metadata": {
        "execution": {},
        "id": "fSBlGV8ruiVc"
      }
    },
    {
      "cell_type": "code",
      "execution_count": 14,
      "source": [
        "# @title Pick an action and see the state changing\r\n",
        "action = \"left\" #@param [\"up\", \"right\", \"down\", \"left\"] {type:\"string\"}\r\n",
        "\r\n",
        "action_int = {'up': 0,\r\n",
        "              'right': 1,\r\n",
        "              'down': 2,\r\n",
        "              'left':3 }\r\n",
        "action = int(action_int[action])\r\n",
        "timestep = environment.step(action)  # pytype: dm_env.TimeStep\r\n",
        "environment.plot_state()"
      ],
      "outputs": [
        {
          "output_type": "display_data",
          "data": {
            "text/plain": [
              "<Figure size 288x288 with 1 Axes>"
            ],
            "image/png": "[encoded data removed]"
          },
          "metadata": {
            "image/png": {
              "width": 270,
              "height": 244
            }
          }
        }
      ],
      "metadata": {
        "cellView": "form",
        "execution": {},
        "id": "v_VfT_xKuiVd"
      }
    },
    {
      "cell_type": "markdown",
      "source": [
        "## Define loops, evaluation"
      ],
      "metadata": {}
    },
    {
      "cell_type": "code",
      "execution_count": 15,
      "source": [
        "# @title Run loop  { form-width: \"30%\" }\r\n",
        "# @markdown This function runs an agent in the environment for a number of\r\n",
        "# @markdown episodes, allowing it to learn.\r\n",
        "\r\n",
        "# @markdown *Double-click* to inspect the `run_loop` function.\r\n",
        "\r\n",
        "\r\n",
        "def run_loop(environment,\r\n",
        "             agent,\r\n",
        "             num_episodes=None,\r\n",
        "             num_steps=None,\r\n",
        "             logger_time_delta=1.,\r\n",
        "             label='training_loop',\r\n",
        "             log_loss=False,\r\n",
        "             ):\r\n",
        "  \"\"\"Perform the run loop.\r\n",
        "\r\n",
        "  We are following the Acme run loop.\r\n",
        "\r\n",
        "  Run the environment loop for `num_episodes` episodes. Each episode is itself\r\n",
        "  a loop which interacts first with the environment to get an observation and\r\n",
        "  then give that observation to the agent in order to retrieve an action. Upon\r\n",
        "  termination of an episode a new episode will be started. If the number of\r\n",
        "  episodes is not given then this will interact with the environment\r\n",
        "  infinitely.\r\n",
        "\r\n",
        "  Args:\r\n",
        "    environment: dm_env used to generate trajectories.\r\n",
        "    agent: acme.Actor for selecting actions in the run loop.\r\n",
        "    num_steps: number of steps to run the loop for. If `None` (default), runs\r\n",
        "      without limit.\r\n",
        "    num_episodes: number of episodes to run the loop for. If `None` (default),\r\n",
        "      runs without limit.\r\n",
        "    logger_time_delta: time interval (in seconds) between consecutive logging\r\n",
        "      steps.\r\n",
        "    label: optional label used at logging steps.\r\n",
        "  \"\"\"\r\n",
        "  logger = loggers.TerminalLogger(label=label, time_delta=logger_time_delta)\r\n",
        "  iterator = range(num_episodes) if num_episodes else itertools.count()\r\n",
        "  all_returns = []\r\n",
        "\r\n",
        "  num_total_steps = 0\r\n",
        "  for episode in iterator:\r\n",
        "    # Reset any counts and start the environment.\r\n",
        "    start_time = time.time()\r\n",
        "    episode_steps = 0\r\n",
        "    episode_return = 0\r\n",
        "    episode_loss = 0\r\n",
        "\r\n",
        "    timestep = environment.reset()\r\n",
        "\r\n",
        "    # Make the first observation.\r\n",
        "    agent.observe_first(timestep)\r\n",
        "\r\n",
        "    # Run an episode.\r\n",
        "    while not timestep.last():\r\n",
        "      # Generate an action from the agent's policy and step the environment.\r\n",
        "      action = agent.select_action(timestep.observation)\r\n",
        "      timestep = environment.step(action)\r\n",
        "\r\n",
        "      # Have the agent observe the timestep and let the agent update itself.\r\n",
        "      agent.observe(action, next_timestep=timestep)\r\n",
        "      agent.update()\r\n",
        "\r\n",
        "      # Book-keeping.\r\n",
        "      episode_steps += 1\r\n",
        "      num_total_steps += 1\r\n",
        "      episode_return += timestep.reward\r\n",
        "\r\n",
        "      if log_loss:\r\n",
        "        episode_loss += agent.last_loss\r\n",
        "\r\n",
        "      if num_steps is not None and num_total_steps >= num_steps:\r\n",
        "        break\r\n",
        "\r\n",
        "    # Collect the results and combine with counts.\r\n",
        "    steps_per_second = episode_steps / (time.time() - start_time)\r\n",
        "    result = {\r\n",
        "        'episode': episode,\r\n",
        "        'episode_length': episode_steps,\r\n",
        "        'episode_return': episode_return,\r\n",
        "    }\r\n",
        "    if log_loss:\r\n",
        "      result['loss_avg'] = episode_loss/episode_steps\r\n",
        "\r\n",
        "    all_returns.append(episode_return)\r\n",
        "\r\n",
        "    # Log the given results.\r\n",
        "    logger.write(result)\r\n",
        "\r\n",
        "    if num_steps is not None and num_total_steps >= num_steps:\r\n",
        "      break\r\n",
        "  return all_returns"
      ],
      "outputs": [],
      "metadata": {
        "cellView": "form",
        "execution": {},
        "id": "xXxgHPHBuiVe"
      }
    },
    {
      "cell_type": "code",
      "execution_count": 16,
      "source": [
        "# @title Implement the evaluation loop { form-width: \"30%\" }\r\n",
        "# @markdown This function runs the agent in the environment for a number of\r\n",
        "# @markdown episodes, without allowing it to learn, in order to evaluate it.\r\n",
        "\r\n",
        "# @markdown *Double-click* to inspect the `evaluate` function.\r\n",
        "\r\n",
        "def evaluate(environment: dm_env.Environment,\r\n",
        "             agent: acme.Actor,\r\n",
        "             evaluation_episodes: int):\r\n",
        "  frames = []\r\n",
        "\r\n",
        "  for episode in range(evaluation_episodes):\r\n",
        "    timestep = environment.reset()\r\n",
        "    episode_return = 0\r\n",
        "    steps = 0\r\n",
        "    while not timestep.last():\r\n",
        "      frames.append(environment.plot_state(return_rgb=True))\r\n",
        "\r\n",
        "      action = agent.select_action(timestep.observation)\r\n",
        "      timestep = environment.step(action)\r\n",
        "      steps += 1\r\n",
        "      episode_return += timestep.reward\r\n",
        "    print(\r\n",
        "        f'Episode {episode} ended with reward {episode_return} in {steps} steps'\r\n",
        "    )\r\n",
        "  return frames\r\n",
        "\r\n",
        "def display_video(frames: Sequence[np.ndarray],\r\n",
        "                  filename: str = 'temp.mp4',\r\n",
        "                  frame_rate: int = 12):\r\n",
        "  \"\"\"Save and display video.\"\"\"\r\n",
        "  # Write the frames to a video.\r\n",
        "  with imageio.get_writer(filename, fps=frame_rate) as video:\r\n",
        "    for frame in frames:\r\n",
        "      video.append_data(frame)\r\n",
        "\r\n",
        "  # Read video and display the video.\r\n",
        "  video = open(filename, 'rb').read()\r\n",
        "  b64_video = base64.b64encode(video)\r\n",
        "  video_tag = ('<video  width=\"320\" height=\"240\" controls alt=\"test\" '\r\n",
        "               'src=\"data:video/mp4;base64,{0}\">').format(b64_video.decode())\r\n",
        "  return IPython.display.HTML(video_tag)"
      ],
      "outputs": [],
      "metadata": {
        "cellView": "form",
        "execution": {},
        "id": "hdrY7-ySuiVf"
      }
    },
    {
      "cell_type": "markdown",
      "source": [
        "## Code random, SARSA, policy eval agents"
      ],
      "metadata": {}
    },
    {
      "cell_type": "markdown",
      "source": [
        "### Coding Exercise 2.1: Random Agent\n",
        "\n",
        "Below is a partially complete implemention of an agent that follows a random (non-learning) policy. Fill in the ```select_action``` method.\n",
        "\n",
        "The ```select_action``` method should return a random **integer** between 0 and ```self._num_actions``` (not a tensor or an array!)"
      ],
      "metadata": {
        "execution": {},
        "id": "2D11-Hf4uiVi"
      }
    },
    {
      "cell_type": "code",
      "execution_count": null,
      "source": [
        "class RandomAgent(acme.Actor):\r\n",
        "\r\n",
        "  def __init__(self, environment_spec):\r\n",
        "    \"\"\"Gets the number of available actions from the environment spec.\"\"\"\r\n",
        "    self._num_actions = environment_spec.actions.num_values\r\n",
        "\r\n",
        "  def select_action(self, observation):\r\n",
        "    \"\"\"Selects an action uniformly at random.\"\"\"\r\n",
        "    #################################################\r\n",
        "    # Fill in missing code below (...),\r\n",
        "    # then remove or comment the line below to test your implementation\r\n",
        "    raise NotImplementedError(\"Student exercise: complete the select action method\")\r\n",
        "    #################################################\r\n",
        "    # TODO return a random integer beween 0 and self._num_actions.\r\n",
        "    # HINT: see the reference for how to sample a random integer in numpy:\r\n",
        "    #   https://numpy.org/doc/1.16/reference/routines.random.html\r\n",
        "    action = ...\r\n",
        "    return action\r\n",
        "\r\n",
        "  def observe_first(self, timestep):\r\n",
        "    \"\"\"Does not record as the RandomAgent has no use for data.\"\"\"\r\n",
        "    pass\r\n",
        "\r\n",
        "  def observe(self, action, next_timestep):\r\n",
        "    \"\"\"Does not record as the RandomAgent has no use for data.\"\"\"\r\n",
        "    pass\r\n",
        "\r\n",
        "  def update(self):\r\n",
        "    \"\"\"Does not update as the RandomAgent does not learn from data.\"\"\"\r\n",
        "    pass"
      ],
      "outputs": [],
      "metadata": {
        "execution": {},
        "id": "OjOAT5_7uiVi"
      }
    },
    {
      "cell_type": "markdown",
      "source": [
        "[*Click for solution*](https://github.com/NeuromatchAcademy/course-content-dl/tree/main//tutorials/W3D2_BasicReinforcementLearning/solutions/W3D2_Tutorial1_Solution_7eaa84d6.py)\n",
        "\n"
      ],
      "metadata": {
        "execution": {},
        "id": "Bkod1o2WuiVj"
      }
    },
    {
      "cell_type": "code",
      "execution_count": null,
      "source": [
        "# @title Visualisation of a random agent in GridWorld { form-width: \"30%\" }\r\n",
        "\r\n",
        "# Create the agent by giving it the action space specification.\r\n",
        "agent = RandomAgent(environment_spec)\r\n",
        "\r\n",
        "# Run the agent in the evaluation loop, which returns the frames.\r\n",
        "frames = evaluate(environment, agent, evaluation_episodes=1)\r\n",
        "\r\n",
        "# Visualize the random agent's episode.\r\n",
        "display_video(frames)"
      ],
      "outputs": [],
      "metadata": {
        "cellView": "form",
        "execution": {},
        "id": "IV7egAXFuiVj"
      }
    },
    {
      "cell_type": "markdown",
      "source": [
        "### Coding Exercise 4.1 Policy Evaluation Agent"
      ],
      "metadata": {
        "execution": {},
        "id": "TwrKnBMXuiVm"
      }
    },
    {
      "cell_type": "markdown",
      "source": [
        "\n",
        "Tabular agents implement a function `q_values()` returning a matrix of Q values\n",
        "of shape: (`number_of_states`, `number_of_actions`)\n",
        "\n",
        "In this section, we will implement a `PolicyEvalAgent` as an ACME actor: given an `evaluation_policy` $\\pi_e$ and a `behaviour_policy` $\\pi_b$, it will use the `behaviour_policy` to choose actions, and it will use the corresponding trajectory data to evaluate the `evaluation_policy` (i.e. compute the Q-values as if you were following the `evaluation_policy`). \n",
        "\n",
        "Algorithm:\n",
        "\n",
        "**Initialize** $Q(\\color{red}{s}, \\color{blue}{a})$ for all $\\color{red}{s}$ ∈ $\\mathcal{\\color{red}S}$ and $\\color{blue}a$ ∈ $\\mathcal{\\color{blue}A}(\\color{red}s)$\n",
        "\n",
        "**Loop forever**:\n",
        "\n",
        "1. $\\color{red}{s} \\gets{}$current (nonterminal) state\n",
        " \n",
        "2. $\\color{blue}{a} \\gets{} \\text{behaviour_policy }\\pi_b(\\color{red}s)$\n",
        " \n",
        "3. Take action $\\color{blue}{a}$; observe resulting reward $\\color{green}{r}$, discount $\\gamma$, and state, $\\color{red}{s'}$\n",
        "\n",
        "4. Compute TD-error: $\\delta = \\color{green}R + \\gamma Q(\\color{red}{s'}, \\underbrace{\\pi_e(\\color{red}{s'}}_{\\color{blue}{a'}})) − Q(\\color{red}s, \\color{blue}a)$\n",
        "\n",
        "4. Update Q-value with a small $\\alpha$ step: $Q(\\color{red}s, \\color{blue}a) \\gets Q(\\color{red}s, \\color{blue}a) + \\alpha \\delta$\n",
        "\n",
        "\n",
        "We will use a uniform `random policy` as our `evaluation policy` here, but you could replace this with any policy you want, such as a greedy one."
      ],
      "metadata": {
        "execution": {},
        "id": "as7R2N-zuiVm"
      }
    },
    {
      "cell_type": "code",
      "execution_count": null,
      "source": [
        "# Uniform random policy\r\n",
        "def random_policy(q):\r\n",
        "  return np.random.randint(4)"
      ],
      "outputs": [],
      "metadata": {
        "execution": {},
        "id": "dleQpBZPuiVm"
      }
    },
    {
      "cell_type": "code",
      "execution_count": null,
      "source": [
        "class PolicyEvalAgent(acme.Actor):\r\n",
        "\r\n",
        "  def __init__(self, environment_spec, evaluated_policy,\r\n",
        "               behaviour_policy=random_policy, step_size=0.1):\r\n",
        "\r\n",
        "    self._state = None\r\n",
        "    # Get number of states and actions from the environment spec.\r\n",
        "    self._number_of_states = environment_spec.observations.num_values\r\n",
        "    self._number_of_actions = environment_spec.actions.num_values\r\n",
        "    self._step_size = step_size\r\n",
        "    self._behaviour_policy = behaviour_policy\r\n",
        "    self._evaluated_policy = evaluated_policy\r\n",
        "    #################################################\r\n",
        "    # Fill in missing code below (...),\r\n",
        "    # then remove or comment the line below to test your implementation\r\n",
        "    raise NotImplementedError(\"Initialize your Q-values!\")\r\n",
        "    #################################################\r\n",
        "    # TODO Initialize the Q-values to be all zeros.\r\n",
        "    # (Note: can also be random, but we use zeros here for reproducibility)\r\n",
        "    # HINT: This is a table of state and action pairs, so needs to be a 2-D\r\n",
        "    #   array. See the reference for how to create this in numpy:\r\n",
        "    #   https://numpy.org/doc/stable/reference/generated/numpy.zeros.html\r\n",
        "    self._q = ...\r\n",
        "    self._action = None\r\n",
        "    self._next_state = None\r\n",
        "\r\n",
        "  @property\r\n",
        "  def q_values(self):\r\n",
        "    # return the Q values\r\n",
        "    return self._q\r\n",
        "\r\n",
        "  def select_action(self, observation):\r\n",
        "    # Select an action\r\n",
        "    return self._behaviour_policy(self._q[observation])\r\n",
        "\r\n",
        "  def observe_first(self, timestep):\r\n",
        "    self._state = timestep.observation\r\n",
        "\r\n",
        "  def observe(self, action, next_timestep):\r\n",
        "    s = self._state\r\n",
        "    a = action\r\n",
        "    r = next_timestep.reward\r\n",
        "    g = next_timestep.discount\r\n",
        "    next_s = next_timestep.observation\r\n",
        "\r\n",
        "    # Compute TD-Error.\r\n",
        "    self._action = a\r\n",
        "    self._next_state = next_s\r\n",
        "    #################################################\r\n",
        "    # Fill in missing code below (...),\r\n",
        "    # then remove or comment the line below to test your implementation\r\n",
        "    raise NotImplementedError(\"Need to select the next action\")\r\n",
        "    #################################################\r\n",
        "    # TODO Select the next action from the evaluation policy\r\n",
        "    # HINT: Refer to step 4 of the algorithm above.\r\n",
        "    next_a = ...\r\n",
        "    self._td_error = r + g * self._q[next_s, next_a] - self._q[s, a]\r\n",
        "\r\n",
        "  def update(self):\r\n",
        "    # Updates\r\n",
        "    s = self._state\r\n",
        "    a = self._action\r\n",
        "    # Q-value table update.\r\n",
        "    self._q[s, a] += self._step_size * self._td_error\r\n",
        "    # Update the state\r\n",
        "    self._state = self._next_state"
      ],
      "outputs": [],
      "metadata": {
        "execution": {},
        "id": "qF4C7Hf0uiVm"
      }
    },
    {
      "cell_type": "markdown",
      "source": [
        "[*Click for solution*](https://github.com/NeuromatchAcademy/course-content-dl/tree/main//tutorials/W3D2_BasicReinforcementLearning/solutions/W3D2_Tutorial1_Solution_7b3f830c.py)\n",
        "\n"
      ],
      "metadata": {
        "execution": {},
        "id": "uB9c1FKKuiVn"
      }
    },
    {
      "cell_type": "code",
      "execution_count": null,
      "source": [
        "# @title Perform policy evaluation { form-width: \"30%\" }\r\n",
        "# @markdown Here you can visualize the state value and action-value functions for the \"simple\" task.\r\n",
        "num_steps = 1e3\r\n",
        "\r\n",
        "# Create the environment\r\n",
        "grid = build_gridworld_task(task='simple')\r\n",
        "environment, environment_spec = setup_environment(grid)\r\n",
        "\r\n",
        "# Create the policy evaluation agent to evaluate a random policy.\r\n",
        "agent = PolicyEvalAgent(environment_spec, evaluated_policy=random_policy)\r\n",
        "\r\n",
        "# run experiment and get the value functions from agent\r\n",
        "returns = run_loop(environment=environment, agent=agent, num_steps=int(num_steps))\r\n",
        "\r\n",
        "# get the q-values\r\n",
        "q = agent.q_values.reshape(grid._layout.shape + (4, ))\r\n",
        "\r\n",
        "# visualize value functions\r\n",
        "print('AFTER {} STEPS ...'.format(num_steps))\r\n",
        "plot_action_values(q, epsilon=1.)"
      ],
      "outputs": [],
      "metadata": {
        "cellView": "form",
        "execution": {},
        "id": "4vp7-n4IuiVn"
      }
    },
    {
      "cell_type": "markdown",
      "source": [
        "### Section 5.1: On-policy control: SARSA Agent\r\n",
        "In this section, we are focusing on control RL algorithms, which perform the **evaluation** and **improvement** of the policy synchronously. That is, the policy that is being evaluated improves as the agent is using it to interact with the environent.\r\n",
        "\r\n",
        "\r\n",
        "The first algorithm we are going to be looking at is SARSA. This is an **on-policy algorithm** -- i.e: the data collection is done by leveraging the policy we're trying to optimize. \r\n",
        "\r\n",
        "As discussed during lectures, a greedy policy with respect to a given $\\color{Green}Q$ fails to explore the environment as needed; we will use instead an $\\epsilon$-greedy policy with respect to $\\color{Green}Q$.\r\n",
        "\r\n",
        "### SARSA Algorithm\r\n",
        "\r\n",
        "**Input:**\r\n",
        "- $\\epsilon \\in (0, 1)$ the probability of taking a random action , and\r\n",
        "- $\\alpha > 0$ the step size, also known as learning rate.\r\n",
        "\r\n",
        "**Initialize:** $\\color{green}Q(\\color{red}{s}, \\color{blue}{a})$ for all $\\color{red}{s}$ ∈ $\\mathcal{\\color{red}S}$ and $\\color{blue}a$ ∈ $\\mathcal{\\color{blue}A}$\r\n",
        "\r\n",
        "**Loop forever:**\r\n",
        "\r\n",
        "1. Get $\\color{red}s \\gets{}$current (non-terminal) state\r\n",
        " \r\n",
        "2. Select $\\color{blue}a \\gets{} \\text{epsilon_greedy}(\\color{green}Q(\\color{red}s, \\cdot))$\r\n",
        " \r\n",
        "3. Step in the environment by passing the selected action $\\color{blue}a$\r\n",
        "\r\n",
        "4. Observe resulting reward $\\color{green}r$, discount $\\gamma$, and state $\\color{red}{s'}$\r\n",
        "\r\n",
        "5. Compute TD error: $\\Delta \\color{green}Q \\gets \r\n",
        "\\color{green}r + \\gamma \\color{green}Q(\\color{red}{s'}, \\color{blue}{a'}) − \\color{green}Q(\\color{red}s, \\color{blue}a)$, <br> where $\\color{blue}{a'} \\gets \\text{epsilon_greedy}(\\color{green}Q(\\color{red}{s'}, \\cdot))$\r\n",
        "\r\n",
        "5. Update $\\color{green}Q(\\color{red}s, \\color{blue}a) \\gets \\color{green}Q(\\color{red}s, \\color{blue}a) + \\alpha \\Delta \\color{green}Q$\r\n"
      ],
      "metadata": {
        "execution": {},
        "id": "3JI--AHruiVn"
      }
    },
    {
      "cell_type": "markdown",
      "source": [
        "### Coding Exercise 5.1: Implement $\\epsilon$-greedy\n",
        "Below you will find incomplete code for sampling from an $\\epsilon$-greedy policy, to be used later when we implement an agent that learns values according to the SARSA algorithm.\n",
        "\n",
        "\n"
      ],
      "metadata": {
        "execution": {},
        "id": "vdabEB-CuiVo"
      }
    },
    {
      "cell_type": "code",
      "execution_count": null,
      "source": [
        "def epsilon_greedy(\r\n",
        "    q_values_at_s: np.ndarray,  # Q-values in state s: Q(s, a).\r\n",
        "    epsilon: float = 0.1  # Probability of taking a random action.\r\n",
        "    ):\r\n",
        "  \"\"\"Return an epsilon-greedy action sample.\"\"\"\r\n",
        "  #################################################\r\n",
        "  # Fill in missing code below (...),\r\n",
        "  # then remove or comment the line below to test your implementation\r\n",
        "  raise NotImplementedError(\"Student exercise: complete epsilon greedy policy function\")\r\n",
        "  #################################################\r\n",
        "  # TODO generate a uniform random number and compare it to epsilon to decide if\r\n",
        "  # the action should be greedy or not\r\n",
        "  # HINT: Use np.random.random() to generate a random float from 0 to 1.\r\n",
        "  if ...:\r\n",
        "    #TODO Greedy: Pick action with the largest Q-value.\r\n",
        "    action = ...\r\n",
        "  else:\r\n",
        "    # Get the number of actions from the size of the given vector of Q-values.\r\n",
        "    num_actions = np.array(q_values_at_s).shape[-1]\r\n",
        "    # TODO else return a random action\r\n",
        "    # HINT: Use np.random.randint() to generate a random integer.\r\n",
        "    action = ...\r\n",
        "\r\n",
        "  return action"
      ],
      "outputs": [],
      "metadata": {
        "execution": {},
        "id": "sXhHuVjouiVo"
      }
    },
    {
      "cell_type": "markdown",
      "source": [
        "[*Click for solution*](https://github.com/NeuromatchAcademy/course-content-dl/tree/main//tutorials/W3D2_BasicReinforcementLearning/solutions/W3D2_Tutorial1_Solution_524ce08f.py)\n",
        "\n"
      ],
      "metadata": {
        "execution": {},
        "id": "Zr5xw6pFuiVo"
      }
    },
    {
      "cell_type": "code",
      "execution_count": null,
      "source": [
        "# @title Sample action from $\\epsilon$-greedy { form-width: \"30%\" }\r\n",
        "# @markdown With $\\epsilon=0.5$, you should see that about half the time, you will get back the optimal\r\n",
        "# @markdown action 3, but half the time, it will be random.\r\n",
        "\r\n",
        "# Create fake q-values\r\n",
        "q_values = np.array([0, 0, 0, 1])\r\n",
        "\r\n",
        "# Set epsilon = 0.5\r\n",
        "epsilon = 0.5\r\n",
        "action = epsilon_greedy(q_values, epsilon=epsilon)\r\n",
        "print(action)"
      ],
      "outputs": [],
      "metadata": {
        "cellView": "form",
        "execution": {},
        "id": "3SCPgQZ8uiVo"
      }
    },
    {
      "cell_type": "markdown",
      "source": [
        "### Coding Exercise 5.2: Run your SARSA agent on the `obstacle` environment\n",
        "\n",
        "This environment is similar to the Cliff-walking example from [Sutton & Barto](http://incompleteideas.net/book/RLbook2018.pdf) and allows us to see the different policies learned by on-policy vs off-policy methods. Try varying the number of steps."
      ],
      "metadata": {
        "execution": {},
        "id": "VDSpoNxNuiVo"
      }
    },
    {
      "cell_type": "code",
      "execution_count": null,
      "source": [
        "class SarsaAgent(acme.Actor):\r\n",
        "\r\n",
        "  def __init__(self,\r\n",
        "               environment_spec: specs.EnvironmentSpec,\r\n",
        "               epsilon: float,\r\n",
        "               step_size: float = 0.1\r\n",
        "               ):\r\n",
        "\r\n",
        "    # Get number of states and actions from the environment spec.\r\n",
        "    self._num_states = environment_spec.observations.num_values\r\n",
        "    self._num_actions = environment_spec.actions.num_values\r\n",
        "\r\n",
        "    # Create the table of Q-values, all initialized at zero.\r\n",
        "    self._q = np.zeros((self._num_states, self._num_actions))\r\n",
        "\r\n",
        "    # Store algorithm hyper-parameters.\r\n",
        "    self._step_size = step_size\r\n",
        "    self._epsilon = epsilon\r\n",
        "\r\n",
        "    # Containers you may find useful.\r\n",
        "    self._state = None\r\n",
        "    self._action = None\r\n",
        "    self._next_state = None\r\n",
        "\r\n",
        "  @property\r\n",
        "  def q_values(self):\r\n",
        "    return self._q\r\n",
        "\r\n",
        "  def select_action(self, observation):\r\n",
        "    return epsilon_greedy(self._q[observation], self._epsilon)\r\n",
        "\r\n",
        "  def observe_first(self, timestep):\r\n",
        "    # Set current state.\r\n",
        "    self._state = timestep.observation\r\n",
        "\r\n",
        "  def observe(self, action, next_timestep):\r\n",
        "    # Unpacking the timestep to lighten notation.\r\n",
        "    s = self._state\r\n",
        "    a = action\r\n",
        "    r = next_timestep.reward\r\n",
        "    g = next_timestep.discount\r\n",
        "    next_s = next_timestep.observation\r\n",
        "    # Compute the action that would be taken from the next state.\r\n",
        "    next_a = self.select_action(next_s)\r\n",
        "    # Compute the on-policy Q-value update.\r\n",
        "    self._action = a\r\n",
        "    self._next_state = next_s\r\n",
        "    #################################################\r\n",
        "    # Fill in missing code below (...),\r\n",
        "    # then remove or comment the line below to test your implementation\r\n",
        "    raise NotImplementedError(\"Student exercise: complete the on-policy Q-value update\")\r\n",
        "    #################################################\r\n",
        "    # TODO complete the line below to compute the temporal difference error\r\n",
        "    # HINT: see step 5 in the pseudocode above.\r\n",
        "    self._td_error = ...\r\n",
        "\r\n",
        "  def update(self):\r\n",
        "    # Optional unpacking to lighten notation.\r\n",
        "    s = self._state\r\n",
        "    a = self._action\r\n",
        "    #################################################\r\n",
        "    # Fill in missing code below (...),\r\n",
        "    # then remove or comment the line below to test your implementation\r\n",
        "    raise NotImplementedError(\"Student exercise: complete value update\")\r\n",
        "    #################################################\r\n",
        "    # Update the Q-value table value at (s, a).\r\n",
        "    # TODO: Update the Q-value table value at (s, a).\r\n",
        "    # HINT: see step 6 in the pseudocode above, remember that alpha = step_size!\r\n",
        "    self._q[s, a] += ...\r\n",
        "    # Update the current state.\r\n",
        "    self._state = self._next_state"
      ],
      "outputs": [],
      "metadata": {
        "execution": {},
        "id": "8ZTr9vqkuiVo"
      }
    },
    {
      "cell_type": "markdown",
      "source": [
        "## Import Acme agent"
      ],
      "metadata": {}
    },
    {
      "cell_type": "markdown",
      "source": [
        "---\r\n",
        "## Appendix and further reading\r\n"
      ],
      "metadata": {}
    },
    {
      "cell_type": "markdown",
      "source": [
        "Books and lecture notes\r\n",
        "*   [Reinforcement Learning: an Introduction by Sutton & Barto](http://incompleteideas.net/book/RLbook2018.pdf)\r\n",
        "* [Algorithms for Reinforcement Learning by Csaba Szepesvari](https://sites.ualberta.ca/~szepesva/papers/RLAlgsInMDPs.pdf)\r\n",
        "\r\n",
        "Lectures and course \r\n",
        "*   [RL Course by David Silver](https://www.youtube.com/playlist?list=PLzuuYNsE1EZAXYR4FJ75jcJseBmo4KQ9-)\r\n",
        "*   [Reinforcement Learning Course | UCL & DeepMind](https://www.youtube.com/playlist?list=PLqYmG7hTraZBKeNJ-JE_eyJHZ7XgBoAyb)\r\n",
        "*   [Emma Brunskill Stanford RL Course](https://www.youtube.com/playlist?list=PLoROMvodv4rOSOPzutgyCTapiGlY2Nd8u)\r\n",
        "*   [RL Course on Coursera by Martha White & Adam White](https://www.coursera.org/specializations/reinforcement-learning)\r\n",
        "\r\n",
        "More practical:\r\n",
        "* [Spinning Up in Deep RL by Josh Achiam](https://spinningup.openai.com/en/latest/)\r\n",
        "*   [Acme white paper](https://arxiv.org/abs/2006.00979) & [Colab tutorial](https://github.com/deepmind/acme/blob/master/examples/tutorial.ipynb)\r\n",
        "\r\n",
        " <br>\r\n",
        "\r\n",
        "[Link to the tweet thread with resources recommended by the community](https://twitter.com/FeryalMP/status/1407272291579355136?s=20). \r\n",
        " \r\n",
        "<br>\r\n",
        "\r\n",
        "This Colab is based on the [EEML 2020 RL practical](https://colab.research.google.com/github/eemlcommunity/PracticalSessions2020/blob/master/rl/EEML2020_RL_Tutorial.ipynb) by Feryal Behbahani & Gheorghe Comanici. If you are interested in JAX you should try the colab. If you are interested in Tensorflow, there is also a version of the colab for the [MLSS 2020 RL Tutorial](https://github.com/Feryal/rl_mlss_2020) that you can try :)\r\n"
      ],
      "metadata": {
        "execution": {},
        "id": "RlpXST0BuiVz"
      }
    }
  ]
}